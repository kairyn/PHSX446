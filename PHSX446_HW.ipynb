{
 "cells": [
  {
   "cell_type": "code",
   "execution_count": 1,
   "id": "330a6d67-9e0f-4807-82fd-e1fe68c523f8",
   "metadata": {},
   "outputs": [],
   "source": [
    "# Thermodynamics and Statistical Mechanics\n",
    "\n",
    "import numpy as np\n",
    "import math as m\n",
    "import pandas as pd\n",
    "import matplotlib.pyplot as plt"
   ]
  },
  {
   "cell_type": "markdown",
   "id": "078de435-9d09-4ac7-9f85-9f1ba165c752",
   "metadata": {},
   "source": [
    "## TOC"
   ]
  },
  {
   "cell_type": "markdown",
   "id": "7ec26a9c-eb60-4497-8a66-e61f9f9b008b",
   "metadata": {},
   "source": [
    "# Defining Constants and Conversion Factors"
   ]
  },
  {
   "cell_type": "code",
   "execution_count": 23,
   "id": "eb5e850d-20ce-4b38-ba1f-ef08da97567f",
   "metadata": {},
   "outputs": [],
   "source": [
    "R = 8.31 # J/molK\n",
    "kb = 1.381e-23 #J/K\n",
    "Navo = 6.022e23 #particles / mol\n",
    "\n",
    "atm_Pa = 101325 #atm in pascals\n",
    "J_eV = 6.242e+18 # J in eV"
   ]
  },
  {
   "cell_type": "markdown",
   "id": "179871d3-f011-4b13-9a10-27e5fa39caeb",
   "metadata": {},
   "source": [
    "# Homework 2"
   ]
  },
  {
   "cell_type": "markdown",
   "id": "e804cd57-56ca-4209-9b52-154729bc4c19",
   "metadata": {},
   "source": [
    "## p1"
   ]
  },
  {
   "cell_type": "code",
   "execution_count": 48,
   "id": "40424268-7f0f-4c78-a112-b9d7e126e295",
   "metadata": {},
   "outputs": [
    {
     "data": {
      "text/plain": [
       "array([-15.9074895 ,  -3.53883987,  -0.42549238,   0.91217532,\n",
       "         1.71309881,   2.15915751])"
      ]
     },
     "execution_count": 48,
     "metadata": {},
     "output_type": "execute_result"
    }
   ],
   "source": [
    "# problem 1\n",
    "T = np.array([100,200,300,400,500,600]) #in K\n",
    "B = np.array([-160,-35,-4.2,9.0,16.9,21.3])/1e6\n",
    "\n",
    "#set\n",
    "n = 1 #mol\n",
    "P = atm_Pa #Pa\n",
    "\n",
    "\n",
    "V = (1 + np.sqrt(1 - 4*(P/R/T)*(B))) / (2*P/(n*T*R))\n",
    "\n",
    "\n",
    "B/(V/n)\n",
    "n*R*T*B/(V/n)"
   ]
  },
  {
   "cell_type": "code",
   "execution_count": 57,
   "id": "49057e2a-3df6-443b-9ddd-b097fdccb14a",
   "metadata": {},
   "outputs": [
    {
     "data": {
      "text/plain": [
       "array([100, 110, 120, 130, 140, 150, 160, 170, 180, 190, 200, 210, 220,\n",
       "       230, 240, 250, 260, 270, 280, 290, 300, 310, 320, 330, 340, 350,\n",
       "       360, 370, 380, 390, 400, 410, 420, 430, 440, 450, 460, 470, 480,\n",
       "       490, 500, 510, 520, 530, 540, 550, 560, 570, 580, 590])"
      ]
     },
     "execution_count": 57,
     "metadata": {},
     "output_type": "execute_result"
    }
   ],
   "source": [
    "np.arange(100,600,10)"
   ]
  },
  {
   "cell_type": "code",
   "execution_count": 58,
   "id": "2bae29a4-218a-40f0-b6c4-0a96e484b3b3",
   "metadata": {},
   "outputs": [
    {
     "data": {
      "text/plain": [
       "[<matplotlib.lines.Line2D at 0x16e9ca38be0>]"
      ]
     },
     "execution_count": 58,
     "metadata": {},
     "output_type": "execute_result"
    },
    {
     "data": {
      "image/png": "[encoded data removed]",
      "text/plain": [
       "<Figure size 640x480 with 1 Axes>"
      ]
     },
     "metadata": {},
     "output_type": "display_data"
    }
   ],
   "source": [
    "a = (160 -35)*1e-6 * 200 * R\n",
    "a/(R*100) - 160e-6\n",
    "a/(R*200) - 35e-6\n",
    "\n",
    "T = np.arange(100,600,10)\n",
    "\n",
    "\n",
    "B = b - a/(R*T)\n",
    "\n",
    "plt.plot(T,B)"
   ]
  },
  {
   "cell_type": "markdown",
   "id": "c5e62367-960d-43e9-97f7-77f712aef5eb",
   "metadata": {},
   "source": [
    "## p3"
   ]
  },
  {
   "cell_type": "code",
   "execution_count": 20,
   "id": "35646c14-ed4b-47e7-844c-ec8999259109",
   "metadata": {},
   "outputs": [
    {
     "data": {
      "text/plain": [
       "56.11488485531313"
      ]
     },
     "execution_count": 20,
     "metadata": {},
     "output_type": "execute_result"
    }
   ],
   "source": [
    "b = 2.57e-4\n",
    "kappa = 4.52e-10\n",
    "\n",
    "b/kappa * 10 /atm_Pa"
   ]
  },
  {
   "cell_type": "code",
   "execution_count": 22,
   "id": "8ce86f65-c760-453e-bb93-bae3ef5d4cff",
   "metadata": {},
   "outputs": [
    {
     "data": {
      "text/plain": [
       "442.1611665237583"
      ]
     },
     "execution_count": 22,
     "metadata": {},
     "output_type": "execute_result"
    }
   ],
   "source": [
    "b = 1.81e-4\n",
    "kappa = 4.04e-11 \n",
    "\n",
    "b/kappa * 10 /atm_Pa"
   ]
  },
  {
   "cell_type": "markdown",
   "id": "8ad031ab-3708-4027-986e-9415cf1fffaf",
   "metadata": {},
   "source": [
    "# p4"
   ]
  },
  {
   "cell_type": "code",
   "execution_count": 24,
   "id": "90dc962b-aade-42c3-b0cb-6173fefad555",
   "metadata": {},
   "outputs": [
    {
     "data": {
      "text/plain": [
       "4.518660710727333"
      ]
     },
     "execution_count": 24,
     "metadata": {},
     "output_type": "execute_result"
    }
   ],
   "source": [
    "217.97*2/Navo *1000 * J_eV"
   ]
  },
  {
   "cell_type": "markdown",
   "id": "a0f1eeba-87ea-4554-a1dc-434109704555",
   "metadata": {},
   "source": [
    "## p5 2.3"
   ]
  },
  {
   "cell_type": "code",
   "execution_count": 32,
   "id": "846f8e4c-290d-4579-a975-ab2c420b1758",
   "metadata": {},
   "outputs": [
    {
     "name": "stdout",
     "output_type": "stream",
     "text": [
      "126410606437752.0 0.11227517265921705\n",
      "47129212243960.0 0.041859149252552186\n",
      "10272278170.0 9.123615791750694e-06\n",
      "1.0 8.881784197001252e-16\n"
     ]
    }
   ],
   "source": [
    "N = np.array([25,30,40,50])\n",
    "\n",
    "for i in N:\n",
    "    O = m.factorial(50) / (m.factorial(i) * m.factorial(50 - i))\n",
    "    print(O, O/(2**50))"
   ]
  },
  {
   "cell_type": "code",
   "execution_count": 31,
   "id": "afe67340-a7cc-4bd4-a088-4c135f2609c5",
   "metadata": {},
   "outputs": [
    {
     "data": {
      "text/plain": [
       "126410606437752.0"
      ]
     },
     "execution_count": 31,
     "metadata": {},
     "output_type": "execute_result"
    }
   ],
   "source": [
    "m.factorial(50) / (m.factorial(25) * m.factorial(25))"
   ]
  },
  {
   "cell_type": "markdown",
   "id": "58416ae7-a814-402b-adfb-4e68b2f7291a",
   "metadata": {},
   "source": [
    "## p6 2.8"
   ]
  },
  {
   "cell_type": "code",
   "execution_count": 37,
   "id": "ce4e8f32-fcbe-4f77-aacb-dd59e4f9d4a6",
   "metadata": {},
   "outputs": [
    {
     "data": {
      "text/plain": [
       "0.00014530659691950015"
      ]
     },
     "execution_count": 37,
     "metadata": {},
     "output_type": "execute_result"
    }
   ],
   "source": [
    "Otot = m.factorial(39)/ (m.factorial(20)*m.factorial(19))\n",
    "\n",
    "m.factorial(29) / (m.factorial(20)*m.factorial(9)) /Otot"
   ]
  },
  {
   "cell_type": "code",
   "execution_count": 40,
   "id": "e444aac7-ab5d-40e0-b800-89783ebf1198",
   "metadata": {},
   "outputs": [
    {
     "data": {
      "text/plain": [
       "0.12381443271804543"
      ]
     },
     "execution_count": 40,
     "metadata": {},
     "output_type": "execute_result"
    }
   ],
   "source": [
    "(m.factorial(19) / (m.factorial(10) * m.factorial(9)))**2 /Otot"
   ]
  }
 ],
 "metadata": {
  "kernelspec": {
   "display_name": "Python 3 (ipykernel)",
   "language": "python",
   "name": "python3"
  },
  "language_info": {
   "codemirror_mode": {
    "name": "ipython",
    "version": 3
   },
   "file_extension": ".py",
   "mimetype": "text/x-python",
   "name": "python",
   "nbconvert_exporter": "python",
   "pygments_lexer": "ipython3",
   "version": "3.9.18"
  }
 },
 "nbformat": 4,
 "nbformat_minor": 5
}
